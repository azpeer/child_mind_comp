{
 "cells": [
  {
   "cell_type": "markdown",
   "id": "62aea3f2",
   "metadata": {},
   "source": [
    "### Importing Packages "
   ]
  },
  {
   "cell_type": "code",
   "execution_count": 74,
   "id": "ce65a199",
   "metadata": {},
   "outputs": [],
   "source": [
    "import pandas as pd\n",
    "import numpy as np\n",
    "from matplotlib import pyplot as plt\n",
    "import seaborn as sns"
   ]
  },
  {
   "cell_type": "markdown",
   "id": "819af769",
   "metadata": {},
   "source": [
    "### Importing Data"
   ]
  },
  {
   "cell_type": "code",
   "execution_count": 76,
   "id": "a0c9d7eb",
   "metadata": {},
   "outputs": [],
   "source": [
    "# note that train.csv consists of the tabular data. This is what we will read in first\n",
    "tabular_train = pd.read_csv(\"../Data/train.csv\")\n",
    "tabular_test = pd.read_csv(\"../Data/test.csv\")\n",
    "\n",
    "# importing the time series data\n",
    "# series_train = pd.read_parquet(\"../Data/series_train.parquet/\")\n",
    "# series_test = pd.read_parquet(\"../Data/series_test.parquet/\")"
   ]
  },
  {
   "cell_type": "markdown",
   "id": "309ca4a9",
   "metadata": {},
   "source": [
    "### Tabular Data "
   ]
  },
  {
   "cell_type": "code",
   "execution_count": 77,
   "id": "9b16fbc1",
   "metadata": {},
   "outputs": [
    {
     "data": {
      "text/plain": [
       "((3960, 82), (20, 59))"
      ]
     },
     "execution_count": 77,
     "metadata": {},
     "output_type": "execute_result"
    }
   ],
   "source": [
    "tabular_train.shape, tabular_test.shape"
   ]
  },
  {
   "cell_type": "code",
   "execution_count": 78,
   "id": "7998d768",
   "metadata": {},
   "outputs": [],
   "source": [
    "# see which columns are in the train set but not the test set\n",
    "# store them in case for filtering\n",
    "response_columns = [col for col in tabular_train.columns.values if col not in tabular_test.columns.values]\n",
    "covariate_columns = [col for col in tabular_train.columns.values if col in tabular_test.columns.values]"
   ]
  }
 ],
 "metadata": {
  "kernelspec": {
   "display_name": "child_mind_comp",
   "language": "python",
   "name": "child_mind_comp"
  },
  "language_info": {
   "codemirror_mode": {
    "name": "ipython",
    "version": 3
   },
   "file_extension": ".py",
   "mimetype": "text/x-python",
   "name": "python",
   "nbconvert_exporter": "python",
   "pygments_lexer": "ipython3",
   "version": "3.9.13"
  }
 },
 "nbformat": 4,
 "nbformat_minor": 5
}
